{
 "cells": [
  {
   "cell_type": "markdown",
   "id": "76beac0f",
   "metadata": {},
   "source": [
    "# TASK 3"
   ]
  },
  {
   "cell_type": "markdown",
   "id": "1ea465a1",
   "metadata": {},
   "source": [
    "1."
   ]
  },
  {
   "cell_type": "code",
   "execution_count": null,
   "id": "9dd31ff8",
   "metadata": {},
   "outputs": [],
   "source": [
    "import re\n",
    "n = input('enter number: ')\n",
    "file = input('enter file name: ')\n",
    "\n",
    "def read_line(n,file):\n",
    "    try:\n",
    "        if re.search('ex3_text.txt', file):\n",
    "            if not n.isnumeric():\n",
    "                return \"invalid input detected\"\n",
    "            else:\n",
    "                n = int(n)\n",
    "                filehandle = open(file)\n",
    "                gist = filehandle.readlines()\n",
    "                length = len(gist)\n",
    "        if n > length:\n",
    "            return \"line \"+str(n)+\" doesn't exist\"\n",
    "        print(gist[n - 1])\n",
    "    except:\n",
    "        return \"file not found\"\n",
    "\n",
    "\n",
    "print(read_line(n, file))"
   ]
  },
  {
   "cell_type": "markdown",
   "id": "26af2553",
   "metadata": {},
   "source": [
    "2."
   ]
  },
  {
   "cell_type": "code",
   "execution_count": null,
   "id": "ab5bdcb5",
   "metadata": {},
   "outputs": [],
   "source": [
    "def longest_words(file=None):\n",
    "    try:\n",
    "        wordl = dict()\n",
    "        lines = []\n",
    "        words_list = []\n",
    "        text = open(file, 'r')\n",
    "        for line in text:\n",
    "            line = line.rstrip('\\n,-[]\"\". ')\n",
    "            lines.append(line)\n",
    "        length1 = len(lines)\n",
    "        for words in range(length1):\n",
    "            words_list.append(lines[words].split())\n",
    "        for word in words_list:\n",
    "            for keys in word:\n",
    "                wordl[keys] = len(keys)\n",
    "        return sorted(wordl, key=wordl.get, reverse=True)[:5]\n",
    "    except:\n",
    "        return f\"file not found\\n{words_list}\"\n",
    "\n"
   ]
  }
 ],
 "metadata": {
  "kernelspec": {
   "display_name": "Python 3 (ipykernel)",
   "language": "python",
   "name": "python3"
  },
  "language_info": {
   "codemirror_mode": {
    "name": "ipython",
    "version": 3
   },
   "file_extension": ".py",
   "mimetype": "text/x-python",
   "name": "python",
   "nbconvert_exporter": "python",
   "pygments_lexer": "ipython3",
   "version": "3.9.7"
  }
 },
 "nbformat": 4,
 "nbformat_minor": 5
}
